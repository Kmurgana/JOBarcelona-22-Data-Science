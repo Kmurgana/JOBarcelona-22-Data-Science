{
 "cells": [
  {
   "cell_type": "markdown",
   "id": "849bd01d",
   "metadata": {},
   "source": [
    "### JOBarcelona ’22 | Data Science"
   ]
  },
  {
   "cell_type": "markdown",
   "id": "85f1a4ca",
   "metadata": {},
   "source": [
    "**Roadmap**\n",
    "\n",
    "Antes de lanzarnos de lleno a la programación, deberíamos trazar una breve guía para mantenernos en el camino. Los siguientes pasos constituyen la base de cualquier flujo de trabajo de aprendizaje automático una vez que tenemos un problema y un modelo en mente:\n",
    "\n",
    "* 1) Plantear la pregunta y determinar los datos necesarios\n",
    "* 2) Adquirir los datos en un formato accesible\n",
    "* 3) Identificar y corregir los puntos de datos/anomalías que faltan, según sea necesario\n",
    "* 4) Preparar los datos para el modelo de aprendizaje automático\n",
    "* 5) Establecer un punto de referencia que se pretende superar (en el caso de clasificación sería obtener un alto nivel de presición)\n",
    "* 6) Entrenar el modelo con los datos de entrenamiento\n",
    "* 7) Hacer predicciones con los datos de prueba\n",
    "* 8) Comparar las predicciones con los objetivos conocidos del conjunto de pruebas y calcular las métricas de rendimiento\n",
    "* 9) Si el rendimiento no es satisfactorio, ajustar el modelo, adquiera más datos o pruebe otra técnica de modelización.\n",
    "* 10) Interpretar el modelo y comunicar los resultados de forma visual y numérica\n",
    "\n",
    "Data Set\n",
    "\n",
    "* Hour: Hora a la que se ha hecho la medición.\n",
    "* Minutes: Minutos en los que se ha realizado la medición.\n",
    "* Sensor_alpha: Posición del insecto al sensor alpha.\n",
    "* Sensor_beta: Posición del insecto al sensor beta.\n",
    "* Sensor_gamma: Posición del insecto al sensor gamma.\n",
    "* Sensor_alpha_plus: Posición del insecto al sensor alpha+.\n",
    "* Sensor_beta_plus: Posición del insecto al sensor beta+.\n",
    "* Sensor_gamma_plus: Posición del insecto al sensor gamma+.\n",
    "\n",
    "**Insect: Categoría de insecto.**\n",
    "* 0 -> Lepidoptero\n",
    "* 1 -> Himenoptera\n",
    "* 2 -> Diptera"
   ]
  },
  {
   "cell_type": "code",
   "execution_count": 1,
   "id": "ad9d43ee",
   "metadata": {},
   "outputs": [],
   "source": [
    "import pandas as pd\n",
    "import numpy as np\n",
    "import matplotlib.pyplot as plt"
   ]
  },
  {
   "cell_type": "code",
   "execution_count": 2,
   "id": "a2e77fa7",
   "metadata": {},
   "outputs": [],
   "source": [
    "df = pd.read_csv(\"../../Practice/2-JOBarcelona '22/Data Sets/train.csv\")"
   ]
  },
  {
   "cell_type": "markdown",
   "id": "2f8a2af9",
   "metadata": {},
   "source": [
    "✅ **Task 1** → Análisis exploratorio"
   ]
  },
  {
   "cell_type": "markdown",
   "id": "a71fc703",
   "metadata": {},
   "source": [
    "1) Leemos data frame, verificamos con head y tail el inicio y final del dataframe y el formato con shape."
   ]
  },
  {
   "cell_type": "code",
   "execution_count": 3,
   "id": "ce4d897c",
   "metadata": {},
   "outputs": [
    {
     "data": {
      "text/html": [
       "<div>\n",
       "<style scoped>\n",
       "    .dataframe tbody tr th:only-of-type {\n",
       "        vertical-align: middle;\n",
       "    }\n",
       "\n",
       "    .dataframe tbody tr th {\n",
       "        vertical-align: top;\n",
       "    }\n",
       "\n",
       "    .dataframe thead th {\n",
       "        text-align: right;\n",
       "    }\n",
       "</style>\n",
       "<table border=\"1\" class=\"dataframe\">\n",
       "  <thead>\n",
       "    <tr style=\"text-align: right;\">\n",
       "      <th></th>\n",
       "      <th>Unnamed: 0</th>\n",
       "      <th>Hour</th>\n",
       "      <th>Minutes</th>\n",
       "      <th>Sensor_alpha</th>\n",
       "      <th>Sensor_beta</th>\n",
       "      <th>Sensor_gamma</th>\n",
       "      <th>Sensor_alpha_plus</th>\n",
       "      <th>Sensor_beta_plus</th>\n",
       "      <th>Sensor_gamma_plus</th>\n",
       "      <th>Insect</th>\n",
       "    </tr>\n",
       "  </thead>\n",
       "  <tbody>\n",
       "    <tr>\n",
       "      <th>0</th>\n",
       "      <td>0</td>\n",
       "      <td>22</td>\n",
       "      <td>26</td>\n",
       "      <td>119.910995</td>\n",
       "      <td>242.838324</td>\n",
       "      <td>-316.819222</td>\n",
       "      <td>250.195048</td>\n",
       "      <td>-53.547777</td>\n",
       "      <td>-112.049983</td>\n",
       "      <td>2</td>\n",
       "    </tr>\n",
       "    <tr>\n",
       "      <th>1</th>\n",
       "      <td>1</td>\n",
       "      <td>10</td>\n",
       "      <td>16</td>\n",
       "      <td>-90.790536</td>\n",
       "      <td>-269.470767</td>\n",
       "      <td>-182.581844</td>\n",
       "      <td>95.394941</td>\n",
       "      <td>37.291944</td>\n",
       "      <td>48.525180</td>\n",
       "      <td>0</td>\n",
       "    </tr>\n",
       "    <tr>\n",
       "      <th>2</th>\n",
       "      <td>2</td>\n",
       "      <td>21</td>\n",
       "      <td>42</td>\n",
       "      <td>-20.028003</td>\n",
       "      <td>-147.070212</td>\n",
       "      <td>50.280872</td>\n",
       "      <td>-90.750386</td>\n",
       "      <td>-50.476556</td>\n",
       "      <td>85.399009</td>\n",
       "      <td>1</td>\n",
       "    </tr>\n",
       "    <tr>\n",
       "      <th>3</th>\n",
       "      <td>3</td>\n",
       "      <td>21</td>\n",
       "      <td>17</td>\n",
       "      <td>-21.258567</td>\n",
       "      <td>0.467070</td>\n",
       "      <td>-86.164153</td>\n",
       "      <td>-21.813529</td>\n",
       "      <td>-209.256006</td>\n",
       "      <td>16.291882</td>\n",
       "      <td>0</td>\n",
       "    </tr>\n",
       "    <tr>\n",
       "      <th>4</th>\n",
       "      <td>4</td>\n",
       "      <td>18</td>\n",
       "      <td>16</td>\n",
       "      <td>-58.154501</td>\n",
       "      <td>-13.051195</td>\n",
       "      <td>-156.501167</td>\n",
       "      <td>48.392938</td>\n",
       "      <td>-110.008860</td>\n",
       "      <td>-10.285138</td>\n",
       "      <td>2</td>\n",
       "    </tr>\n",
       "  </tbody>\n",
       "</table>\n",
       "</div>"
      ],
      "text/plain": [
       "   Unnamed: 0  Hour  Minutes  Sensor_alpha  Sensor_beta  Sensor_gamma  \\\n",
       "0           0    22       26    119.910995   242.838324   -316.819222   \n",
       "1           1    10       16    -90.790536  -269.470767   -182.581844   \n",
       "2           2    21       42    -20.028003  -147.070212     50.280872   \n",
       "3           3    21       17    -21.258567     0.467070    -86.164153   \n",
       "4           4    18       16    -58.154501   -13.051195   -156.501167   \n",
       "\n",
       "   Sensor_alpha_plus  Sensor_beta_plus  Sensor_gamma_plus  Insect  \n",
       "0         250.195048        -53.547777        -112.049983       2  \n",
       "1          95.394941         37.291944          48.525180       0  \n",
       "2         -90.750386        -50.476556          85.399009       1  \n",
       "3         -21.813529       -209.256006          16.291882       0  \n",
       "4          48.392938       -110.008860         -10.285138       2  "
      ]
     },
     "execution_count": 3,
     "metadata": {},
     "output_type": "execute_result"
    }
   ],
   "source": [
    "df.head()"
   ]
  },
  {
   "cell_type": "code",
   "execution_count": 4,
   "id": "3e167088",
   "metadata": {},
   "outputs": [
    {
     "data": {
      "text/html": [
       "<div>\n",
       "<style scoped>\n",
       "    .dataframe tbody tr th:only-of-type {\n",
       "        vertical-align: middle;\n",
       "    }\n",
       "\n",
       "    .dataframe tbody tr th {\n",
       "        vertical-align: top;\n",
       "    }\n",
       "\n",
       "    .dataframe thead th {\n",
       "        text-align: right;\n",
       "    }\n",
       "</style>\n",
       "<table border=\"1\" class=\"dataframe\">\n",
       "  <thead>\n",
       "    <tr style=\"text-align: right;\">\n",
       "      <th></th>\n",
       "      <th>Unnamed: 0</th>\n",
       "      <th>Hour</th>\n",
       "      <th>Minutes</th>\n",
       "      <th>Sensor_alpha</th>\n",
       "      <th>Sensor_beta</th>\n",
       "      <th>Sensor_gamma</th>\n",
       "      <th>Sensor_alpha_plus</th>\n",
       "      <th>Sensor_beta_plus</th>\n",
       "      <th>Sensor_gamma_plus</th>\n",
       "      <th>Insect</th>\n",
       "    </tr>\n",
       "  </thead>\n",
       "  <tbody>\n",
       "    <tr>\n",
       "      <th>6996</th>\n",
       "      <td>6996</td>\n",
       "      <td>21</td>\n",
       "      <td>0</td>\n",
       "      <td>6.576106</td>\n",
       "      <td>301.050638</td>\n",
       "      <td>146.682819</td>\n",
       "      <td>-209.480741</td>\n",
       "      <td>-129.776336</td>\n",
       "      <td>-51.226256</td>\n",
       "      <td>1</td>\n",
       "    </tr>\n",
       "    <tr>\n",
       "      <th>6997</th>\n",
       "      <td>6997</td>\n",
       "      <td>18</td>\n",
       "      <td>57</td>\n",
       "      <td>-6.169382</td>\n",
       "      <td>-317.652257</td>\n",
       "      <td>-161.644320</td>\n",
       "      <td>248.055724</td>\n",
       "      <td>-112.626344</td>\n",
       "      <td>99.463913</td>\n",
       "      <td>0</td>\n",
       "    </tr>\n",
       "    <tr>\n",
       "      <th>6998</th>\n",
       "      <td>6998</td>\n",
       "      <td>22</td>\n",
       "      <td>47</td>\n",
       "      <td>-7.289684</td>\n",
       "      <td>-406.732525</td>\n",
       "      <td>-212.097250</td>\n",
       "      <td>248.745127</td>\n",
       "      <td>116.893077</td>\n",
       "      <td>32.806150</td>\n",
       "      <td>0</td>\n",
       "    </tr>\n",
       "    <tr>\n",
       "      <th>6999</th>\n",
       "      <td>6999</td>\n",
       "      <td>18</td>\n",
       "      <td>14</td>\n",
       "      <td>-92.317105</td>\n",
       "      <td>-191.555040</td>\n",
       "      <td>88.371271</td>\n",
       "      <td>38.728565</td>\n",
       "      <td>-39.050466</td>\n",
       "      <td>20.356711</td>\n",
       "      <td>0</td>\n",
       "    </tr>\n",
       "    <tr>\n",
       "      <th>7000</th>\n",
       "      <td>7000</td>\n",
       "      <td>21</td>\n",
       "      <td>31</td>\n",
       "      <td>-72.083585</td>\n",
       "      <td>-11.434977</td>\n",
       "      <td>-52.961743</td>\n",
       "      <td>-72.696385</td>\n",
       "      <td>145.299227</td>\n",
       "      <td>-143.856243</td>\n",
       "      <td>1</td>\n",
       "    </tr>\n",
       "  </tbody>\n",
       "</table>\n",
       "</div>"
      ],
      "text/plain": [
       "      Unnamed: 0  Hour  Minutes  Sensor_alpha  Sensor_beta  Sensor_gamma  \\\n",
       "6996        6996    21        0      6.576106   301.050638    146.682819   \n",
       "6997        6997    18       57     -6.169382  -317.652257   -161.644320   \n",
       "6998        6998    22       47     -7.289684  -406.732525   -212.097250   \n",
       "6999        6999    18       14    -92.317105  -191.555040     88.371271   \n",
       "7000        7000    21       31    -72.083585   -11.434977    -52.961743   \n",
       "\n",
       "      Sensor_alpha_plus  Sensor_beta_plus  Sensor_gamma_plus  Insect  \n",
       "6996        -209.480741       -129.776336         -51.226256       1  \n",
       "6997         248.055724       -112.626344          99.463913       0  \n",
       "6998         248.745127        116.893077          32.806150       0  \n",
       "6999          38.728565        -39.050466          20.356711       0  \n",
       "7000         -72.696385        145.299227        -143.856243       1  "
      ]
     },
     "execution_count": 4,
     "metadata": {},
     "output_type": "execute_result"
    }
   ],
   "source": [
    "df.tail()"
   ]
  },
  {
   "cell_type": "code",
   "execution_count": 5,
   "id": "0d85e3a2",
   "metadata": {},
   "outputs": [
    {
     "data": {
      "text/plain": [
       "(7001, 10)"
      ]
     },
     "execution_count": 5,
     "metadata": {},
     "output_type": "execute_result"
    }
   ],
   "source": [
    "df.shape"
   ]
  },
  {
   "cell_type": "code",
   "execution_count": 6,
   "id": "c21540e4",
   "metadata": {},
   "outputs": [
    {
     "data": {
      "text/plain": [
       "(array([3519.,    0.,    0.,    0.,    0., 2793.,    0.,    0.,    0.,\n",
       "         689.]),\n",
       " array([0. , 0.2, 0.4, 0.6, 0.8, 1. , 1.2, 1.4, 1.6, 1.8, 2. ]),\n",
       " <BarContainer object of 10 artists>)"
      ]
     },
     "execution_count": 6,
     "metadata": {},
     "output_type": "execute_result"
    },
    {
     "data": {
      "image/png": "[encoded data removed]",
      "text/plain": [
       "<Figure size 432x288 with 1 Axes>"
      ]
     },
     "metadata": {
      "needs_background": "light"
     },
     "output_type": "display_data"
    }
   ],
   "source": [
    "plt.hist(df.Insect)"
   ]
  },
  {
   "cell_type": "markdown",
   "id": "d378be2e",
   "metadata": {},
   "source": [
    "Se observa cómo la gran mayoría son Lepidópteros, luego Himenoptera y finalmente, lo que menos tenemos es Diptera."
   ]
  },
  {
   "cell_type": "code",
   "execution_count": 7,
   "id": "848cd59a",
   "metadata": {},
   "outputs": [
    {
     "data": {
      "text/plain": [
       "array([2, 0, 1], dtype=int64)"
      ]
     },
     "execution_count": 7,
     "metadata": {},
     "output_type": "execute_result"
    }
   ],
   "source": [
    "df.Insect.unique()"
   ]
  },
  {
   "cell_type": "markdown",
   "id": "2769e193",
   "metadata": {},
   "source": [
    "### Identificar las anomalías/los datos que faltan"
   ]
  },
  {
   "cell_type": "code",
   "execution_count": 8,
   "id": "98632c75",
   "metadata": {},
   "outputs": [
    {
     "name": "stdout",
     "output_type": "stream",
     "text": [
      "El tamaño del dataset es: (7001, 10)\n"
     ]
    }
   ],
   "source": [
    "print('El tamaño del dataset es:', df.shape)"
   ]
  },
  {
   "cell_type": "code",
   "execution_count": 9,
   "id": "14630c43",
   "metadata": {},
   "outputs": [
    {
     "data": {
      "text/html": [
       "<div>\n",
       "<style scoped>\n",
       "    .dataframe tbody tr th:only-of-type {\n",
       "        vertical-align: middle;\n",
       "    }\n",
       "\n",
       "    .dataframe tbody tr th {\n",
       "        vertical-align: top;\n",
       "    }\n",
       "\n",
       "    .dataframe thead th {\n",
       "        text-align: right;\n",
       "    }\n",
       "</style>\n",
       "<table border=\"1\" class=\"dataframe\">\n",
       "  <thead>\n",
       "    <tr style=\"text-align: right;\">\n",
       "      <th></th>\n",
       "      <th>Unnamed: 0</th>\n",
       "      <th>Hour</th>\n",
       "      <th>Minutes</th>\n",
       "      <th>Sensor_alpha</th>\n",
       "      <th>Sensor_beta</th>\n",
       "      <th>Sensor_gamma</th>\n",
       "      <th>Sensor_alpha_plus</th>\n",
       "      <th>Sensor_beta_plus</th>\n",
       "      <th>Sensor_gamma_plus</th>\n",
       "      <th>Insect</th>\n",
       "    </tr>\n",
       "  </thead>\n",
       "  <tbody>\n",
       "    <tr>\n",
       "      <th>count</th>\n",
       "      <td>7001.00000</td>\n",
       "      <td>7001.000000</td>\n",
       "      <td>7001.000000</td>\n",
       "      <td>7001.000000</td>\n",
       "      <td>7001.000000</td>\n",
       "      <td>7001.000000</td>\n",
       "      <td>7001.000000</td>\n",
       "      <td>7001.000000</td>\n",
       "      <td>7001.000000</td>\n",
       "      <td>7001.000000</td>\n",
       "    </tr>\n",
       "    <tr>\n",
       "      <th>mean</th>\n",
       "      <td>3500.00000</td>\n",
       "      <td>19.598914</td>\n",
       "      <td>29.405942</td>\n",
       "      <td>0.477171</td>\n",
       "      <td>-29.974117</td>\n",
       "      <td>-5.624690</td>\n",
       "      <td>7.188060</td>\n",
       "      <td>-0.757901</td>\n",
       "      <td>-0.554533</td>\n",
       "      <td>0.595772</td>\n",
       "    </tr>\n",
       "    <tr>\n",
       "      <th>std</th>\n",
       "      <td>2021.15895</td>\n",
       "      <td>3.507008</td>\n",
       "      <td>17.375830</td>\n",
       "      <td>99.294856</td>\n",
       "      <td>133.095125</td>\n",
       "      <td>115.871391</td>\n",
       "      <td>122.327980</td>\n",
       "      <td>100.039477</td>\n",
       "      <td>100.535951</td>\n",
       "      <td>0.661604</td>\n",
       "    </tr>\n",
       "    <tr>\n",
       "      <th>min</th>\n",
       "      <td>0.00000</td>\n",
       "      <td>1.000000</td>\n",
       "      <td>0.000000</td>\n",
       "      <td>-404.898823</td>\n",
       "      <td>-656.272666</td>\n",
       "      <td>-448.478039</td>\n",
       "      <td>-437.205393</td>\n",
       "      <td>-387.567443</td>\n",
       "      <td>-374.961689</td>\n",
       "      <td>0.000000</td>\n",
       "    </tr>\n",
       "    <tr>\n",
       "      <th>25%</th>\n",
       "      <td>1750.00000</td>\n",
       "      <td>19.000000</td>\n",
       "      <td>14.000000</td>\n",
       "      <td>-68.573905</td>\n",
       "      <td>-116.060383</td>\n",
       "      <td>-83.508747</td>\n",
       "      <td>-79.496687</td>\n",
       "      <td>-68.061596</td>\n",
       "      <td>-69.652647</td>\n",
       "      <td>0.000000</td>\n",
       "    </tr>\n",
       "    <tr>\n",
       "      <th>50%</th>\n",
       "      <td>3500.00000</td>\n",
       "      <td>21.000000</td>\n",
       "      <td>29.000000</td>\n",
       "      <td>-0.287447</td>\n",
       "      <td>-36.171567</td>\n",
       "      <td>-1.217606</td>\n",
       "      <td>-1.133567</td>\n",
       "      <td>-0.444124</td>\n",
       "      <td>0.027128</td>\n",
       "      <td>0.000000</td>\n",
       "    </tr>\n",
       "    <tr>\n",
       "      <th>75%</th>\n",
       "      <td>5250.00000</td>\n",
       "      <td>21.000000</td>\n",
       "      <td>44.000000</td>\n",
       "      <td>66.480795</td>\n",
       "      <td>56.637778</td>\n",
       "      <td>76.870277</td>\n",
       "      <td>93.285286</td>\n",
       "      <td>66.181909</td>\n",
       "      <td>67.838524</td>\n",
       "      <td>1.000000</td>\n",
       "    </tr>\n",
       "    <tr>\n",
       "      <th>max</th>\n",
       "      <td>7000.00000</td>\n",
       "      <td>23.000000</td>\n",
       "      <td>59.000000</td>\n",
       "      <td>351.256221</td>\n",
       "      <td>518.395878</td>\n",
       "      <td>378.349287</td>\n",
       "      <td>462.556319</td>\n",
       "      <td>345.279240</td>\n",
       "      <td>363.682391</td>\n",
       "      <td>2.000000</td>\n",
       "    </tr>\n",
       "  </tbody>\n",
       "</table>\n",
       "</div>"
      ],
      "text/plain": [
       "       Unnamed: 0         Hour      Minutes  Sensor_alpha  Sensor_beta  \\\n",
       "count  7001.00000  7001.000000  7001.000000   7001.000000  7001.000000   \n",
       "mean   3500.00000    19.598914    29.405942      0.477171   -29.974117   \n",
       "std    2021.15895     3.507008    17.375830     99.294856   133.095125   \n",
       "min       0.00000     1.000000     0.000000   -404.898823  -656.272666   \n",
       "25%    1750.00000    19.000000    14.000000    -68.573905  -116.060383   \n",
       "50%    3500.00000    21.000000    29.000000     -0.287447   -36.171567   \n",
       "75%    5250.00000    21.000000    44.000000     66.480795    56.637778   \n",
       "max    7000.00000    23.000000    59.000000    351.256221   518.395878   \n",
       "\n",
       "       Sensor_gamma  Sensor_alpha_plus  Sensor_beta_plus  Sensor_gamma_plus  \\\n",
       "count   7001.000000        7001.000000       7001.000000        7001.000000   \n",
       "mean      -5.624690           7.188060         -0.757901          -0.554533   \n",
       "std      115.871391         122.327980        100.039477         100.535951   \n",
       "min     -448.478039        -437.205393       -387.567443        -374.961689   \n",
       "25%      -83.508747         -79.496687        -68.061596         -69.652647   \n",
       "50%       -1.217606          -1.133567         -0.444124           0.027128   \n",
       "75%       76.870277          93.285286         66.181909          67.838524   \n",
       "max      378.349287         462.556319        345.279240         363.682391   \n",
       "\n",
       "            Insect  \n",
       "count  7001.000000  \n",
       "mean      0.595772  \n",
       "std       0.661604  \n",
       "min       0.000000  \n",
       "25%       0.000000  \n",
       "50%       0.000000  \n",
       "75%       1.000000  \n",
       "max       2.000000  "
      ]
     },
     "execution_count": 9,
     "metadata": {},
     "output_type": "execute_result"
    }
   ],
   "source": [
    "df.describe()"
   ]
  },
  {
   "cell_type": "markdown",
   "id": "41df15bb",
   "metadata": {},
   "source": [
    "No hay puntos de datos que aparezcan inmediatamente como anómalos y no hay ceros en ninguna de las columnas de medición. Y otro hecho importante es que no hay ninguna variable categórica, por lo que, no hay necesidad de hacer ningún conjunto de datos dummie."
   ]
  },
  {
   "cell_type": "markdown",
   "id": "983e52ea",
   "metadata": {},
   "source": [
    "## Random Forest Classification"
   ]
  },
  {
   "cell_type": "code",
   "execution_count": 10,
   "id": "c05cbb6b",
   "metadata": {},
   "outputs": [],
   "source": [
    "df = df.rename(columns={'Unnamed: 0': 'Indices'}) "
   ]
  },
  {
   "cell_type": "code",
   "execution_count": 11,
   "id": "3eed9cb6",
   "metadata": {},
   "outputs": [
    {
     "data": {
      "text/html": [
       "<div>\n",
       "<style scoped>\n",
       "    .dataframe tbody tr th:only-of-type {\n",
       "        vertical-align: middle;\n",
       "    }\n",
       "\n",
       "    .dataframe tbody tr th {\n",
       "        vertical-align: top;\n",
       "    }\n",
       "\n",
       "    .dataframe thead th {\n",
       "        text-align: right;\n",
       "    }\n",
       "</style>\n",
       "<table border=\"1\" class=\"dataframe\">\n",
       "  <thead>\n",
       "    <tr style=\"text-align: right;\">\n",
       "      <th></th>\n",
       "      <th>Indices</th>\n",
       "      <th>Hour</th>\n",
       "      <th>Minutes</th>\n",
       "      <th>Sensor_alpha</th>\n",
       "      <th>Sensor_beta</th>\n",
       "      <th>Sensor_gamma</th>\n",
       "      <th>Sensor_alpha_plus</th>\n",
       "      <th>Sensor_beta_plus</th>\n",
       "      <th>Sensor_gamma_plus</th>\n",
       "      <th>Insect</th>\n",
       "    </tr>\n",
       "  </thead>\n",
       "  <tbody>\n",
       "    <tr>\n",
       "      <th>0</th>\n",
       "      <td>0</td>\n",
       "      <td>22</td>\n",
       "      <td>26</td>\n",
       "      <td>119.910995</td>\n",
       "      <td>242.838324</td>\n",
       "      <td>-316.819222</td>\n",
       "      <td>250.195048</td>\n",
       "      <td>-53.547777</td>\n",
       "      <td>-112.049983</td>\n",
       "      <td>2</td>\n",
       "    </tr>\n",
       "    <tr>\n",
       "      <th>1</th>\n",
       "      <td>1</td>\n",
       "      <td>10</td>\n",
       "      <td>16</td>\n",
       "      <td>-90.790536</td>\n",
       "      <td>-269.470767</td>\n",
       "      <td>-182.581844</td>\n",
       "      <td>95.394941</td>\n",
       "      <td>37.291944</td>\n",
       "      <td>48.525180</td>\n",
       "      <td>0</td>\n",
       "    </tr>\n",
       "    <tr>\n",
       "      <th>2</th>\n",
       "      <td>2</td>\n",
       "      <td>21</td>\n",
       "      <td>42</td>\n",
       "      <td>-20.028003</td>\n",
       "      <td>-147.070212</td>\n",
       "      <td>50.280872</td>\n",
       "      <td>-90.750386</td>\n",
       "      <td>-50.476556</td>\n",
       "      <td>85.399009</td>\n",
       "      <td>1</td>\n",
       "    </tr>\n",
       "    <tr>\n",
       "      <th>3</th>\n",
       "      <td>3</td>\n",
       "      <td>21</td>\n",
       "      <td>17</td>\n",
       "      <td>-21.258567</td>\n",
       "      <td>0.467070</td>\n",
       "      <td>-86.164153</td>\n",
       "      <td>-21.813529</td>\n",
       "      <td>-209.256006</td>\n",
       "      <td>16.291882</td>\n",
       "      <td>0</td>\n",
       "    </tr>\n",
       "    <tr>\n",
       "      <th>4</th>\n",
       "      <td>4</td>\n",
       "      <td>18</td>\n",
       "      <td>16</td>\n",
       "      <td>-58.154501</td>\n",
       "      <td>-13.051195</td>\n",
       "      <td>-156.501167</td>\n",
       "      <td>48.392938</td>\n",
       "      <td>-110.008860</td>\n",
       "      <td>-10.285138</td>\n",
       "      <td>2</td>\n",
       "    </tr>\n",
       "  </tbody>\n",
       "</table>\n",
       "</div>"
      ],
      "text/plain": [
       "   Indices  Hour  Minutes  Sensor_alpha  Sensor_beta  Sensor_gamma  \\\n",
       "0        0    22       26    119.910995   242.838324   -316.819222   \n",
       "1        1    10       16    -90.790536  -269.470767   -182.581844   \n",
       "2        2    21       42    -20.028003  -147.070212     50.280872   \n",
       "3        3    21       17    -21.258567     0.467070    -86.164153   \n",
       "4        4    18       16    -58.154501   -13.051195   -156.501167   \n",
       "\n",
       "   Sensor_alpha_plus  Sensor_beta_plus  Sensor_gamma_plus  Insect  \n",
       "0         250.195048        -53.547777        -112.049983       2  \n",
       "1          95.394941         37.291944          48.525180       0  \n",
       "2         -90.750386        -50.476556          85.399009       1  \n",
       "3         -21.813529       -209.256006          16.291882       0  \n",
       "4          48.392938       -110.008860         -10.285138       2  "
      ]
     },
     "execution_count": 11,
     "metadata": {},
     "output_type": "execute_result"
    }
   ],
   "source": [
    "df.head()"
   ]
  },
  {
   "cell_type": "code",
   "execution_count": 12,
   "id": "d3a454b8",
   "metadata": {},
   "outputs": [],
   "source": [
    "colnames = df.columns.values.tolist()"
   ]
  },
  {
   "cell_type": "code",
   "execution_count": 13,
   "id": "1848be4e",
   "metadata": {},
   "outputs": [],
   "source": [
    "predictors=colnames[1:8]\n",
    "target=colnames[9]"
   ]
  },
  {
   "cell_type": "code",
   "execution_count": 14,
   "id": "a3145082",
   "metadata": {},
   "outputs": [],
   "source": [
    "#Dividir el conjunto de datos en partes de entrenamiento y de prueba de forma aleatoria.\n",
    "#Utilizamos el método de numpy random.uniform, para seleccionar aleatoriamente estos conjuntos.\n",
    "#Generaremos una columna auxiliar en el dataset,  con el 80% true y el 20% false, (entrenamiento y testing)\n",
    "df[\"is_train\"] = np.random.uniform(0,1,len(df))<0.8\n",
    "train, test = df[df[\"is_train\"]==True], df[df[\"is_train\"]==False]"
   ]
  },
  {
   "cell_type": "code",
   "execution_count": 15,
   "id": "3fb0336a",
   "metadata": {},
   "outputs": [],
   "source": [
    "def RandomForestClassifier(rang, jump):\n",
    "    from sklearn.ensemble import RandomForestClassifier\n",
    "    score=[]\n",
    "    for i in range (100, rang, jump):\n",
    "        forest = RandomForestClassifier(n_jobs=2, oob_score=True, n_estimators=i, random_state=i, criterion=\"entropy\")\n",
    "        forest.fit(train[predictors],train[target])\n",
    "        print (\"El bosque de clasificación aleatorio con \", i, \" arboles, tiene un un Score de: %0.3f\" %forest.oob_score_)\n",
    "        score.append(np.round(forest.oob_score_,3))\n",
    "    plt.plot(range(100,rang,jump), score, \"ro-\")\n",
    "    plt.xlabel(\"N° árboles en bosque\")\n",
    "    plt.ylabel(\"Score obtenido\")\n",
    "    plt.title(\"Score respeco a árboles\")\n",
    "    plt.figure(figsize=(8,4))\n",
    "    plt.show()\n",
    "    print (\"El promedio de presición obtenido es %0.3f\" %np.mean(score))\n",
    "    return(forest)"
   ]
  },
  {
   "cell_type": "code",
   "execution_count": 76,
   "id": "73dd9571",
   "metadata": {},
   "outputs": [
    {
     "name": "stdout",
     "output_type": "stream",
     "text": [
      "El bosque de clasificación aleatorio con  100  arboles, tiene un un Score de: 0.888\n",
      "El bosque de clasificación aleatorio con  200  arboles, tiene un un Score de: 0.891\n",
      "El bosque de clasificación aleatorio con  300  arboles, tiene un un Score de: 0.888\n",
      "El bosque de clasificación aleatorio con  400  arboles, tiene un un Score de: 0.889\n",
      "El bosque de clasificación aleatorio con  500  arboles, tiene un un Score de: 0.890\n"
     ]
    },
    {
     "data": {
      "image/png": "[encoded data removed]",
      "text/plain": [
       "<Figure size 432x288 with 1 Axes>"
      ]
     },
     "metadata": {
      "needs_background": "light"
     },
     "output_type": "display_data"
    },
    {
     "data": {
      "text/plain": [
       "<Figure size 576x288 with 0 Axes>"
      ]
     },
     "metadata": {},
     "output_type": "display_data"
    },
    {
     "name": "stdout",
     "output_type": "stream",
     "text": [
      "El promedio de presición obtenido es 0.889\n"
     ]
    }
   ],
   "source": [
    "forest = RandomForestClassifier(600, 100) #(Límite máximo de árboles y cantidad que añadirá por iteración)"
   ]
  },
  {
   "cell_type": "code",
   "execution_count": 78,
   "id": "7bc54139",
   "metadata": {},
   "outputs": [
    {
     "data": {
      "text/plain": [
       "{0: 745, 1: 595, 2: 86}"
      ]
     },
     "execution_count": 78,
     "metadata": {},
     "output_type": "execute_result"
    }
   ],
   "source": [
    "preds = forest.predict(test[predictors])\n",
    "unique, counts = np.unique(preds, return_counts=True)\n",
    "dict(zip(unique, counts))"
   ]
  },
  {
   "cell_type": "code",
   "execution_count": 29,
   "id": "6bb3afb8",
   "metadata": {},
   "outputs": [
    {
     "data": {
      "text/html": [
       "<div>\n",
       "<style scoped>\n",
       "    .dataframe tbody tr th:only-of-type {\n",
       "        vertical-align: middle;\n",
       "    }\n",
       "\n",
       "    .dataframe tbody tr th {\n",
       "        vertical-align: top;\n",
       "    }\n",
       "\n",
       "    .dataframe thead th {\n",
       "        text-align: right;\n",
       "    }\n",
       "</style>\n",
       "<table border=\"1\" class=\"dataframe\">\n",
       "  <thead>\n",
       "    <tr style=\"text-align: right;\">\n",
       "      <th>Predictions</th>\n",
       "      <th>0</th>\n",
       "      <th>1</th>\n",
       "      <th>2</th>\n",
       "    </tr>\n",
       "    <tr>\n",
       "      <th>Actual</th>\n",
       "      <th></th>\n",
       "      <th></th>\n",
       "      <th></th>\n",
       "    </tr>\n",
       "  </thead>\n",
       "  <tbody>\n",
       "    <tr>\n",
       "      <th>0</th>\n",
       "      <td>673</td>\n",
       "      <td>53</td>\n",
       "      <td>4</td>\n",
       "    </tr>\n",
       "    <tr>\n",
       "      <th>1</th>\n",
       "      <td>30</td>\n",
       "      <td>525</td>\n",
       "      <td>3</td>\n",
       "    </tr>\n",
       "    <tr>\n",
       "      <th>2</th>\n",
       "      <td>44</td>\n",
       "      <td>21</td>\n",
       "      <td>68</td>\n",
       "    </tr>\n",
       "  </tbody>\n",
       "</table>\n",
       "</div>"
      ],
      "text/plain": [
       "Predictions    0    1   2\n",
       "Actual                   \n",
       "0            673   53   4\n",
       "1             30  525   3\n",
       "2             44   21  68"
      ]
     },
     "execution_count": 29,
     "metadata": {},
     "output_type": "execute_result"
    }
   ],
   "source": [
    "crosstab = pd.crosstab(test[target], preds, rownames=[\"Actual\"], colnames=[\"Predictions\"])\n",
    "crosstab"
   ]
  },
  {
   "cell_type": "code",
   "execution_count": null,
   "id": "1265c62a",
   "metadata": {},
   "outputs": [],
   "source": []
  },
  {
   "cell_type": "code",
   "execution_count": null,
   "id": "a6c90532",
   "metadata": {},
   "outputs": [],
   "source": []
  },
  {
   "cell_type": "code",
   "execution_count": null,
   "id": "f4413550",
   "metadata": {},
   "outputs": [],
   "source": []
  },
  {
   "cell_type": "markdown",
   "id": "75b249f8",
   "metadata": {},
   "source": [
    "### Testing otras formas"
   ]
  },
  {
   "cell_type": "code",
   "execution_count": 17,
   "id": "ee71e8bc",
   "metadata": {},
   "outputs": [],
   "source": [
    "from sklearn import svm"
   ]
  },
  {
   "cell_type": "markdown",
   "id": "6a26699b",
   "metadata": {},
   "source": [
    "### Linear SVC----------"
   ]
  },
  {
   "cell_type": "code",
   "execution_count": null,
   "id": "32ec56a5",
   "metadata": {},
   "outputs": [],
   "source": [
    "classifier = svm.SVC(kernel=\"linear\", C=1.0)\n",
    "classifier.fit(train[predictors], train[target])"
   ]
  },
  {
   "cell_type": "code",
   "execution_count": null,
   "id": "d54eac82",
   "metadata": {},
   "outputs": [],
   "source": [
    "preds = classifier.predict(test[predictors])\n",
    "unique, counts = np.unique(preds, return_counts=True)\n",
    "dict(zip(unique, counts))"
   ]
  },
  {
   "cell_type": "code",
   "execution_count": null,
   "id": "ae177280",
   "metadata": {},
   "outputs": [],
   "source": [
    "crosstab = pd.crosstab(test[target], preds, rownames=[\"Actual\"], colnames=[\"Predictions\"])\n",
    "crosstab"
   ]
  },
  {
   "cell_type": "code",
   "execution_count": 26,
   "id": "5583df4d",
   "metadata": {},
   "outputs": [
    {
     "name": "stderr",
     "output_type": "stream",
     "text": [
      "C:\\Users\\Kevin\\AppData\\Local\\Temp/ipykernel_14896/1997534870.py:1: SettingWithCopyWarning: \n",
      "A value is trying to be set on a copy of a slice from a DataFrame.\n",
      "Try using .loc[row_indexer,col_indexer] = value instead\n",
      "\n",
      "See the caveats in the documentation: https://pandas.pydata.org/pandas-docs/stable/user_guide/indexing.html#returning-a-view-versus-a-copy\n",
      "  test[\"predictions\"]=preds\n"
     ]
    }
   ],
   "source": [
    "test[\"predictions\"]=preds"
   ]
  },
  {
   "cell_type": "code",
   "execution_count": 27,
   "id": "bb0c35f0",
   "metadata": {},
   "outputs": [
    {
     "data": {
      "text/html": [
       "<div>\n",
       "<style scoped>\n",
       "    .dataframe tbody tr th:only-of-type {\n",
       "        vertical-align: middle;\n",
       "    }\n",
       "\n",
       "    .dataframe tbody tr th {\n",
       "        vertical-align: top;\n",
       "    }\n",
       "\n",
       "    .dataframe thead th {\n",
       "        text-align: right;\n",
       "    }\n",
       "</style>\n",
       "<table border=\"1\" class=\"dataframe\">\n",
       "  <thead>\n",
       "    <tr style=\"text-align: right;\">\n",
       "      <th></th>\n",
       "      <th>Indices</th>\n",
       "      <th>Hour</th>\n",
       "      <th>Minutes</th>\n",
       "      <th>Sensor_alpha</th>\n",
       "      <th>Sensor_beta</th>\n",
       "      <th>Sensor_gamma</th>\n",
       "      <th>Sensor_alpha_plus</th>\n",
       "      <th>Sensor_beta_plus</th>\n",
       "      <th>Sensor_gamma_plus</th>\n",
       "      <th>Insect</th>\n",
       "      <th>is_train</th>\n",
       "      <th>predictions</th>\n",
       "    </tr>\n",
       "  </thead>\n",
       "  <tbody>\n",
       "    <tr>\n",
       "      <th>1</th>\n",
       "      <td>1</td>\n",
       "      <td>10</td>\n",
       "      <td>16</td>\n",
       "      <td>-90.790536</td>\n",
       "      <td>-269.470767</td>\n",
       "      <td>-182.581844</td>\n",
       "      <td>95.394941</td>\n",
       "      <td>37.291944</td>\n",
       "      <td>48.525180</td>\n",
       "      <td>0</td>\n",
       "      <td>False</td>\n",
       "      <td>0</td>\n",
       "    </tr>\n",
       "    <tr>\n",
       "      <th>7</th>\n",
       "      <td>7</td>\n",
       "      <td>7</td>\n",
       "      <td>34</td>\n",
       "      <td>-103.673329</td>\n",
       "      <td>-234.696711</td>\n",
       "      <td>-103.499400</td>\n",
       "      <td>98.081187</td>\n",
       "      <td>-28.156253</td>\n",
       "      <td>45.068583</td>\n",
       "      <td>0</td>\n",
       "      <td>False</td>\n",
       "      <td>0</td>\n",
       "    </tr>\n",
       "    <tr>\n",
       "      <th>11</th>\n",
       "      <td>11</td>\n",
       "      <td>21</td>\n",
       "      <td>54</td>\n",
       "      <td>-206.589303</td>\n",
       "      <td>-158.165606</td>\n",
       "      <td>90.269891</td>\n",
       "      <td>25.266184</td>\n",
       "      <td>-15.321192</td>\n",
       "      <td>-134.624308</td>\n",
       "      <td>0</td>\n",
       "      <td>False</td>\n",
       "      <td>1</td>\n",
       "    </tr>\n",
       "    <tr>\n",
       "      <th>21</th>\n",
       "      <td>21</td>\n",
       "      <td>20</td>\n",
       "      <td>46</td>\n",
       "      <td>29.681302</td>\n",
       "      <td>-27.605620</td>\n",
       "      <td>-23.742086</td>\n",
       "      <td>-13.384727</td>\n",
       "      <td>101.086015</td>\n",
       "      <td>79.030902</td>\n",
       "      <td>0</td>\n",
       "      <td>False</td>\n",
       "      <td>0</td>\n",
       "    </tr>\n",
       "    <tr>\n",
       "      <th>22</th>\n",
       "      <td>22</td>\n",
       "      <td>7</td>\n",
       "      <td>19</td>\n",
       "      <td>-35.407064</td>\n",
       "      <td>127.249181</td>\n",
       "      <td>-42.350047</td>\n",
       "      <td>-61.187870</td>\n",
       "      <td>85.065680</td>\n",
       "      <td>11.662521</td>\n",
       "      <td>2</td>\n",
       "      <td>False</td>\n",
       "      <td>0</td>\n",
       "    </tr>\n",
       "    <tr>\n",
       "      <th>...</th>\n",
       "      <td>...</td>\n",
       "      <td>...</td>\n",
       "      <td>...</td>\n",
       "      <td>...</td>\n",
       "      <td>...</td>\n",
       "      <td>...</td>\n",
       "      <td>...</td>\n",
       "      <td>...</td>\n",
       "      <td>...</td>\n",
       "      <td>...</td>\n",
       "      <td>...</td>\n",
       "      <td>...</td>\n",
       "    </tr>\n",
       "    <tr>\n",
       "      <th>6976</th>\n",
       "      <td>6976</td>\n",
       "      <td>20</td>\n",
       "      <td>45</td>\n",
       "      <td>72.579255</td>\n",
       "      <td>-46.628856</td>\n",
       "      <td>-141.336192</td>\n",
       "      <td>75.120362</td>\n",
       "      <td>-88.818773</td>\n",
       "      <td>37.450551</td>\n",
       "      <td>0</td>\n",
       "      <td>False</td>\n",
       "      <td>0</td>\n",
       "    </tr>\n",
       "    <tr>\n",
       "      <th>6978</th>\n",
       "      <td>6978</td>\n",
       "      <td>7</td>\n",
       "      <td>28</td>\n",
       "      <td>11.537955</td>\n",
       "      <td>421.221901</td>\n",
       "      <td>172.875838</td>\n",
       "      <td>-256.915111</td>\n",
       "      <td>10.907308</td>\n",
       "      <td>33.833846</td>\n",
       "      <td>1</td>\n",
       "      <td>False</td>\n",
       "      <td>1</td>\n",
       "    </tr>\n",
       "    <tr>\n",
       "      <th>6979</th>\n",
       "      <td>6979</td>\n",
       "      <td>20</td>\n",
       "      <td>4</td>\n",
       "      <td>54.939728</td>\n",
       "      <td>-1.452499</td>\n",
       "      <td>-75.903302</td>\n",
       "      <td>-92.174846</td>\n",
       "      <td>-159.847035</td>\n",
       "      <td>104.391730</td>\n",
       "      <td>2</td>\n",
       "      <td>False</td>\n",
       "      <td>1</td>\n",
       "    </tr>\n",
       "    <tr>\n",
       "      <th>6981</th>\n",
       "      <td>6981</td>\n",
       "      <td>21</td>\n",
       "      <td>58</td>\n",
       "      <td>59.903584</td>\n",
       "      <td>168.636496</td>\n",
       "      <td>60.961200</td>\n",
       "      <td>-131.062331</td>\n",
       "      <td>-74.341512</td>\n",
       "      <td>-21.405702</td>\n",
       "      <td>1</td>\n",
       "      <td>False</td>\n",
       "      <td>1</td>\n",
       "    </tr>\n",
       "    <tr>\n",
       "      <th>6986</th>\n",
       "      <td>6986</td>\n",
       "      <td>20</td>\n",
       "      <td>37</td>\n",
       "      <td>-31.160627</td>\n",
       "      <td>46.965285</td>\n",
       "      <td>27.962447</td>\n",
       "      <td>-12.297767</td>\n",
       "      <td>64.515306</td>\n",
       "      <td>39.536566</td>\n",
       "      <td>0</td>\n",
       "      <td>False</td>\n",
       "      <td>0</td>\n",
       "    </tr>\n",
       "  </tbody>\n",
       "</table>\n",
       "<p>1421 rows × 12 columns</p>\n",
       "</div>"
      ],
      "text/plain": [
       "      Indices  Hour  Minutes  Sensor_alpha  Sensor_beta  Sensor_gamma  \\\n",
       "1           1    10       16    -90.790536  -269.470767   -182.581844   \n",
       "7           7     7       34   -103.673329  -234.696711   -103.499400   \n",
       "11         11    21       54   -206.589303  -158.165606     90.269891   \n",
       "21         21    20       46     29.681302   -27.605620    -23.742086   \n",
       "22         22     7       19    -35.407064   127.249181    -42.350047   \n",
       "...       ...   ...      ...           ...          ...           ...   \n",
       "6976     6976    20       45     72.579255   -46.628856   -141.336192   \n",
       "6978     6978     7       28     11.537955   421.221901    172.875838   \n",
       "6979     6979    20        4     54.939728    -1.452499    -75.903302   \n",
       "6981     6981    21       58     59.903584   168.636496     60.961200   \n",
       "6986     6986    20       37    -31.160627    46.965285     27.962447   \n",
       "\n",
       "      Sensor_alpha_plus  Sensor_beta_plus  Sensor_gamma_plus  Insect  \\\n",
       "1             95.394941         37.291944          48.525180       0   \n",
       "7             98.081187        -28.156253          45.068583       0   \n",
       "11            25.266184        -15.321192        -134.624308       0   \n",
       "21           -13.384727        101.086015          79.030902       0   \n",
       "22           -61.187870         85.065680          11.662521       2   \n",
       "...                 ...               ...                ...     ...   \n",
       "6976          75.120362        -88.818773          37.450551       0   \n",
       "6978        -256.915111         10.907308          33.833846       1   \n",
       "6979         -92.174846       -159.847035         104.391730       2   \n",
       "6981        -131.062331        -74.341512         -21.405702       1   \n",
       "6986         -12.297767         64.515306          39.536566       0   \n",
       "\n",
       "      is_train  predictions  \n",
       "1        False            0  \n",
       "7        False            0  \n",
       "11       False            1  \n",
       "21       False            0  \n",
       "22       False            0  \n",
       "...        ...          ...  \n",
       "6976     False            0  \n",
       "6978     False            1  \n",
       "6979     False            1  \n",
       "6981     False            1  \n",
       "6986     False            0  \n",
       "\n",
       "[1421 rows x 12 columns]"
      ]
     },
     "execution_count": 27,
     "metadata": {},
     "output_type": "execute_result"
    }
   ],
   "source": [
    "test"
   ]
  },
  {
   "cell_type": "markdown",
   "id": "7919e99b",
   "metadata": {},
   "source": [
    "### Sigmoid SVC----------"
   ]
  },
  {
   "cell_type": "code",
   "execution_count": 33,
   "id": "4b4b922e",
   "metadata": {},
   "outputs": [
    {
     "data": {
      "text/plain": [
       "SVC(C=10.0, kernel='sigmoid')"
      ]
     },
     "execution_count": 33,
     "metadata": {},
     "output_type": "execute_result"
    }
   ],
   "source": [
    "classifier = svm.SVC(kernel=\"sigmoid\", C=10.0)\n",
    "classifier.fit(train[predictors], train[target])"
   ]
  },
  {
   "cell_type": "code",
   "execution_count": 34,
   "id": "eed45f94",
   "metadata": {},
   "outputs": [
    {
     "data": {
      "text/plain": [
       "{0: 794, 1: 601, 2: 31}"
      ]
     },
     "execution_count": 34,
     "metadata": {},
     "output_type": "execute_result"
    }
   ],
   "source": [
    "preds = classifier.predict(test[predictors])\n",
    "unique, counts = np.unique(preds, return_counts=True)\n",
    "dict(zip(unique, counts))"
   ]
  },
  {
   "cell_type": "code",
   "execution_count": 35,
   "id": "18ae9aeb",
   "metadata": {},
   "outputs": [
    {
     "data": {
      "text/html": [
       "<div>\n",
       "<style scoped>\n",
       "    .dataframe tbody tr th:only-of-type {\n",
       "        vertical-align: middle;\n",
       "    }\n",
       "\n",
       "    .dataframe tbody tr th {\n",
       "        vertical-align: top;\n",
       "    }\n",
       "\n",
       "    .dataframe thead th {\n",
       "        text-align: right;\n",
       "    }\n",
       "</style>\n",
       "<table border=\"1\" class=\"dataframe\">\n",
       "  <thead>\n",
       "    <tr style=\"text-align: right;\">\n",
       "      <th>Predictions</th>\n",
       "      <th>0</th>\n",
       "      <th>1</th>\n",
       "      <th>2</th>\n",
       "    </tr>\n",
       "    <tr>\n",
       "      <th>Actual</th>\n",
       "      <th></th>\n",
       "      <th></th>\n",
       "      <th></th>\n",
       "    </tr>\n",
       "  </thead>\n",
       "  <tbody>\n",
       "    <tr>\n",
       "      <th>0</th>\n",
       "      <td>467</td>\n",
       "      <td>235</td>\n",
       "      <td>3</td>\n",
       "    </tr>\n",
       "    <tr>\n",
       "      <th>1</th>\n",
       "      <td>242</td>\n",
       "      <td>299</td>\n",
       "      <td>28</td>\n",
       "    </tr>\n",
       "    <tr>\n",
       "      <th>2</th>\n",
       "      <td>85</td>\n",
       "      <td>67</td>\n",
       "      <td>0</td>\n",
       "    </tr>\n",
       "  </tbody>\n",
       "</table>\n",
       "</div>"
      ],
      "text/plain": [
       "Predictions    0    1   2\n",
       "Actual                   \n",
       "0            467  235   3\n",
       "1            242  299  28\n",
       "2             85   67   0"
      ]
     },
     "execution_count": 35,
     "metadata": {},
     "output_type": "execute_result"
    }
   ],
   "source": [
    "crosstab = pd.crosstab(test[target], preds, rownames=[\"Actual\"], colnames=[\"Predictions\"])\n",
    "crosstab"
   ]
  },
  {
   "cell_type": "markdown",
   "id": "da98fb5b",
   "metadata": {},
   "source": [
    "### Polinomial SVC----------"
   ]
  },
  {
   "cell_type": "code",
   "execution_count": 27,
   "id": "458132f7",
   "metadata": {},
   "outputs": [
    {
     "data": {
      "text/plain": [
       "SVC(C=1000.0, kernel='poly')"
      ]
     },
     "execution_count": 27,
     "metadata": {},
     "output_type": "execute_result"
    }
   ],
   "source": [
    "classifier = svm.SVC(kernel=\"poly\", C=1000.0)\n",
    "classifier.fit(train[predictors], train[target])"
   ]
  },
  {
   "cell_type": "code",
   "execution_count": 28,
   "id": "fcc35470",
   "metadata": {},
   "outputs": [
    {
     "data": {
      "text/plain": [
       "{0: 715, 1: 619, 2: 92}"
      ]
     },
     "execution_count": 28,
     "metadata": {},
     "output_type": "execute_result"
    }
   ],
   "source": [
    "preds = classifier.predict(test[predictors])\n",
    "unique, counts = np.unique(preds, return_counts=True)\n",
    "dict(zip(unique, counts))"
   ]
  },
  {
   "cell_type": "code",
   "execution_count": 29,
   "id": "4186f7bf",
   "metadata": {},
   "outputs": [
    {
     "data": {
      "text/html": [
       "<div>\n",
       "<style scoped>\n",
       "    .dataframe tbody tr th:only-of-type {\n",
       "        vertical-align: middle;\n",
       "    }\n",
       "\n",
       "    .dataframe tbody tr th {\n",
       "        vertical-align: top;\n",
       "    }\n",
       "\n",
       "    .dataframe thead th {\n",
       "        text-align: right;\n",
       "    }\n",
       "</style>\n",
       "<table border=\"1\" class=\"dataframe\">\n",
       "  <thead>\n",
       "    <tr style=\"text-align: right;\">\n",
       "      <th>Predictions</th>\n",
       "      <th>0</th>\n",
       "      <th>1</th>\n",
       "      <th>2</th>\n",
       "    </tr>\n",
       "    <tr>\n",
       "      <th>Actual</th>\n",
       "      <th></th>\n",
       "      <th></th>\n",
       "      <th></th>\n",
       "    </tr>\n",
       "  </thead>\n",
       "  <tbody>\n",
       "    <tr>\n",
       "      <th>0</th>\n",
       "      <td>586</td>\n",
       "      <td>112</td>\n",
       "      <td>7</td>\n",
       "    </tr>\n",
       "    <tr>\n",
       "      <th>1</th>\n",
       "      <td>84</td>\n",
       "      <td>484</td>\n",
       "      <td>1</td>\n",
       "    </tr>\n",
       "    <tr>\n",
       "      <th>2</th>\n",
       "      <td>45</td>\n",
       "      <td>23</td>\n",
       "      <td>84</td>\n",
       "    </tr>\n",
       "  </tbody>\n",
       "</table>\n",
       "</div>"
      ],
      "text/plain": [
       "Predictions    0    1   2\n",
       "Actual                   \n",
       "0            586  112   7\n",
       "1             84  484   1\n",
       "2             45   23  84"
      ]
     },
     "execution_count": 29,
     "metadata": {},
     "output_type": "execute_result"
    }
   ],
   "source": [
    "crosstab = pd.crosstab(test[target], preds, rownames=[\"Actual\"], colnames=[\"Predictions\"])\n",
    "crosstab"
   ]
  },
  {
   "cell_type": "markdown",
   "id": "1edcfda9",
   "metadata": {},
   "source": [
    "### RBF SVC----------"
   ]
  },
  {
   "cell_type": "code",
   "execution_count": 42,
   "id": "3e50e72f",
   "metadata": {},
   "outputs": [
    {
     "data": {
      "text/plain": [
       "SVC(C=10000)"
      ]
     },
     "execution_count": 42,
     "metadata": {},
     "output_type": "execute_result"
    }
   ],
   "source": [
    "classifier = svm.SVC(kernel=\"rbf\", C=10000)\n",
    "classifier.fit(train[predictors], train[target])"
   ]
  },
  {
   "cell_type": "code",
   "execution_count": 43,
   "id": "3679b54a",
   "metadata": {},
   "outputs": [
    {
     "data": {
      "text/plain": [
       "{0: 693, 1: 600, 2: 133}"
      ]
     },
     "execution_count": 43,
     "metadata": {},
     "output_type": "execute_result"
    }
   ],
   "source": [
    "preds = classifier.predict(test[predictors])\n",
    "unique, counts = np.unique(preds, return_counts=True)\n",
    "dict(zip(unique, counts))"
   ]
  },
  {
   "cell_type": "code",
   "execution_count": 44,
   "id": "b695dd82",
   "metadata": {},
   "outputs": [
    {
     "data": {
      "text/html": [
       "<div>\n",
       "<style scoped>\n",
       "    .dataframe tbody tr th:only-of-type {\n",
       "        vertical-align: middle;\n",
       "    }\n",
       "\n",
       "    .dataframe tbody tr th {\n",
       "        vertical-align: top;\n",
       "    }\n",
       "\n",
       "    .dataframe thead th {\n",
       "        text-align: right;\n",
       "    }\n",
       "</style>\n",
       "<table border=\"1\" class=\"dataframe\">\n",
       "  <thead>\n",
       "    <tr style=\"text-align: right;\">\n",
       "      <th>Predictions</th>\n",
       "      <th>0</th>\n",
       "      <th>1</th>\n",
       "      <th>2</th>\n",
       "    </tr>\n",
       "    <tr>\n",
       "      <th>Actual</th>\n",
       "      <th></th>\n",
       "      <th></th>\n",
       "      <th></th>\n",
       "    </tr>\n",
       "  </thead>\n",
       "  <tbody>\n",
       "    <tr>\n",
       "      <th>0</th>\n",
       "      <td>579</td>\n",
       "      <td>94</td>\n",
       "      <td>32</td>\n",
       "    </tr>\n",
       "    <tr>\n",
       "      <th>1</th>\n",
       "      <td>70</td>\n",
       "      <td>495</td>\n",
       "      <td>4</td>\n",
       "    </tr>\n",
       "    <tr>\n",
       "      <th>2</th>\n",
       "      <td>44</td>\n",
       "      <td>11</td>\n",
       "      <td>97</td>\n",
       "    </tr>\n",
       "  </tbody>\n",
       "</table>\n",
       "</div>"
      ],
      "text/plain": [
       "Predictions    0    1   2\n",
       "Actual                   \n",
       "0            579   94  32\n",
       "1             70  495   4\n",
       "2             44   11  97"
      ]
     },
     "execution_count": 44,
     "metadata": {},
     "output_type": "execute_result"
    }
   ],
   "source": [
    "crosstab = pd.crosstab(test[target], preds, rownames=[\"Actual\"], colnames=[\"Predictions\"])\n",
    "crosstab"
   ]
  },
  {
   "cell_type": "code",
   "execution_count": 45,
   "id": "a1081e43",
   "metadata": {},
   "outputs": [
    {
     "name": "stderr",
     "output_type": "stream",
     "text": [
      "C:\\Users\\Kevin\\AppData\\Local\\Temp/ipykernel_10368/1997534870.py:1: SettingWithCopyWarning: \n",
      "A value is trying to be set on a copy of a slice from a DataFrame.\n",
      "Try using .loc[row_indexer,col_indexer] = value instead\n",
      "\n",
      "See the caveats in the documentation: https://pandas.pydata.org/pandas-docs/stable/user_guide/indexing.html#returning-a-view-versus-a-copy\n",
      "  test[\"predictions\"]=preds\n"
     ]
    }
   ],
   "source": [
    "test[\"predictions\"]=preds"
   ]
  },
  {
   "cell_type": "code",
   "execution_count": 46,
   "id": "eef0572f",
   "metadata": {},
   "outputs": [
    {
     "data": {
      "text/html": [
       "<div>\n",
       "<style scoped>\n",
       "    .dataframe tbody tr th:only-of-type {\n",
       "        vertical-align: middle;\n",
       "    }\n",
       "\n",
       "    .dataframe tbody tr th {\n",
       "        vertical-align: top;\n",
       "    }\n",
       "\n",
       "    .dataframe thead th {\n",
       "        text-align: right;\n",
       "    }\n",
       "</style>\n",
       "<table border=\"1\" class=\"dataframe\">\n",
       "  <thead>\n",
       "    <tr style=\"text-align: right;\">\n",
       "      <th></th>\n",
       "      <th>Indices</th>\n",
       "      <th>Hour</th>\n",
       "      <th>Minutes</th>\n",
       "      <th>Sensor_alpha</th>\n",
       "      <th>Sensor_beta</th>\n",
       "      <th>Sensor_gamma</th>\n",
       "      <th>Sensor_alpha_plus</th>\n",
       "      <th>Sensor_beta_plus</th>\n",
       "      <th>Sensor_gamma_plus</th>\n",
       "      <th>Insect</th>\n",
       "      <th>is_train</th>\n",
       "      <th>predictions</th>\n",
       "    </tr>\n",
       "  </thead>\n",
       "  <tbody>\n",
       "    <tr>\n",
       "      <th>1</th>\n",
       "      <td>1</td>\n",
       "      <td>10</td>\n",
       "      <td>16</td>\n",
       "      <td>-90.790536</td>\n",
       "      <td>-269.470767</td>\n",
       "      <td>-182.581844</td>\n",
       "      <td>95.394941</td>\n",
       "      <td>37.291944</td>\n",
       "      <td>48.525180</td>\n",
       "      <td>0</td>\n",
       "      <td>False</td>\n",
       "      <td>0</td>\n",
       "    </tr>\n",
       "    <tr>\n",
       "      <th>10</th>\n",
       "      <td>10</td>\n",
       "      <td>21</td>\n",
       "      <td>19</td>\n",
       "      <td>257.203234</td>\n",
       "      <td>104.388884</td>\n",
       "      <td>117.474568</td>\n",
       "      <td>-76.468655</td>\n",
       "      <td>-139.068103</td>\n",
       "      <td>-69.410840</td>\n",
       "      <td>1</td>\n",
       "      <td>False</td>\n",
       "      <td>1</td>\n",
       "    </tr>\n",
       "    <tr>\n",
       "      <th>15</th>\n",
       "      <td>15</td>\n",
       "      <td>23</td>\n",
       "      <td>24</td>\n",
       "      <td>-22.679284</td>\n",
       "      <td>150.699956</td>\n",
       "      <td>-208.015827</td>\n",
       "      <td>214.097978</td>\n",
       "      <td>16.832217</td>\n",
       "      <td>-140.142575</td>\n",
       "      <td>2</td>\n",
       "      <td>False</td>\n",
       "      <td>2</td>\n",
       "    </tr>\n",
       "    <tr>\n",
       "      <th>17</th>\n",
       "      <td>17</td>\n",
       "      <td>21</td>\n",
       "      <td>51</td>\n",
       "      <td>-149.061702</td>\n",
       "      <td>-45.717649</td>\n",
       "      <td>-108.855455</td>\n",
       "      <td>-83.075828</td>\n",
       "      <td>-30.577092</td>\n",
       "      <td>33.207196</td>\n",
       "      <td>1</td>\n",
       "      <td>False</td>\n",
       "      <td>0</td>\n",
       "    </tr>\n",
       "    <tr>\n",
       "      <th>20</th>\n",
       "      <td>20</td>\n",
       "      <td>21</td>\n",
       "      <td>29</td>\n",
       "      <td>40.869523</td>\n",
       "      <td>-164.872491</td>\n",
       "      <td>88.571757</td>\n",
       "      <td>-138.647033</td>\n",
       "      <td>68.742976</td>\n",
       "      <td>-75.222573</td>\n",
       "      <td>1</td>\n",
       "      <td>False</td>\n",
       "      <td>1</td>\n",
       "    </tr>\n",
       "    <tr>\n",
       "      <th>...</th>\n",
       "      <td>...</td>\n",
       "      <td>...</td>\n",
       "      <td>...</td>\n",
       "      <td>...</td>\n",
       "      <td>...</td>\n",
       "      <td>...</td>\n",
       "      <td>...</td>\n",
       "      <td>...</td>\n",
       "      <td>...</td>\n",
       "      <td>...</td>\n",
       "      <td>...</td>\n",
       "      <td>...</td>\n",
       "    </tr>\n",
       "    <tr>\n",
       "      <th>6979</th>\n",
       "      <td>6979</td>\n",
       "      <td>20</td>\n",
       "      <td>4</td>\n",
       "      <td>54.939728</td>\n",
       "      <td>-1.452499</td>\n",
       "      <td>-75.903302</td>\n",
       "      <td>-92.174846</td>\n",
       "      <td>-159.847035</td>\n",
       "      <td>104.391730</td>\n",
       "      <td>2</td>\n",
       "      <td>False</td>\n",
       "      <td>0</td>\n",
       "    </tr>\n",
       "    <tr>\n",
       "      <th>6984</th>\n",
       "      <td>6984</td>\n",
       "      <td>21</td>\n",
       "      <td>10</td>\n",
       "      <td>32.370937</td>\n",
       "      <td>-336.444212</td>\n",
       "      <td>-250.876343</td>\n",
       "      <td>165.152871</td>\n",
       "      <td>-154.039602</td>\n",
       "      <td>18.498736</td>\n",
       "      <td>0</td>\n",
       "      <td>False</td>\n",
       "      <td>0</td>\n",
       "    </tr>\n",
       "    <tr>\n",
       "      <th>6988</th>\n",
       "      <td>6988</td>\n",
       "      <td>19</td>\n",
       "      <td>54</td>\n",
       "      <td>66.287942</td>\n",
       "      <td>44.297398</td>\n",
       "      <td>-40.591987</td>\n",
       "      <td>37.113752</td>\n",
       "      <td>144.368202</td>\n",
       "      <td>88.723283</td>\n",
       "      <td>0</td>\n",
       "      <td>False</td>\n",
       "      <td>2</td>\n",
       "    </tr>\n",
       "    <tr>\n",
       "      <th>6996</th>\n",
       "      <td>6996</td>\n",
       "      <td>21</td>\n",
       "      <td>0</td>\n",
       "      <td>6.576106</td>\n",
       "      <td>301.050638</td>\n",
       "      <td>146.682819</td>\n",
       "      <td>-209.480741</td>\n",
       "      <td>-129.776336</td>\n",
       "      <td>-51.226256</td>\n",
       "      <td>1</td>\n",
       "      <td>False</td>\n",
       "      <td>1</td>\n",
       "    </tr>\n",
       "    <tr>\n",
       "      <th>6997</th>\n",
       "      <td>6997</td>\n",
       "      <td>18</td>\n",
       "      <td>57</td>\n",
       "      <td>-6.169382</td>\n",
       "      <td>-317.652257</td>\n",
       "      <td>-161.644320</td>\n",
       "      <td>248.055724</td>\n",
       "      <td>-112.626344</td>\n",
       "      <td>99.463913</td>\n",
       "      <td>0</td>\n",
       "      <td>False</td>\n",
       "      <td>0</td>\n",
       "    </tr>\n",
       "  </tbody>\n",
       "</table>\n",
       "<p>1426 rows × 12 columns</p>\n",
       "</div>"
      ],
      "text/plain": [
       "      Indices  Hour  Minutes  Sensor_alpha  Sensor_beta  Sensor_gamma  \\\n",
       "1           1    10       16    -90.790536  -269.470767   -182.581844   \n",
       "10         10    21       19    257.203234   104.388884    117.474568   \n",
       "15         15    23       24    -22.679284   150.699956   -208.015827   \n",
       "17         17    21       51   -149.061702   -45.717649   -108.855455   \n",
       "20         20    21       29     40.869523  -164.872491     88.571757   \n",
       "...       ...   ...      ...           ...          ...           ...   \n",
       "6979     6979    20        4     54.939728    -1.452499    -75.903302   \n",
       "6984     6984    21       10     32.370937  -336.444212   -250.876343   \n",
       "6988     6988    19       54     66.287942    44.297398    -40.591987   \n",
       "6996     6996    21        0      6.576106   301.050638    146.682819   \n",
       "6997     6997    18       57     -6.169382  -317.652257   -161.644320   \n",
       "\n",
       "      Sensor_alpha_plus  Sensor_beta_plus  Sensor_gamma_plus  Insect  \\\n",
       "1             95.394941         37.291944          48.525180       0   \n",
       "10           -76.468655       -139.068103         -69.410840       1   \n",
       "15           214.097978         16.832217        -140.142575       2   \n",
       "17           -83.075828        -30.577092          33.207196       1   \n",
       "20          -138.647033         68.742976         -75.222573       1   \n",
       "...                 ...               ...                ...     ...   \n",
       "6979         -92.174846       -159.847035         104.391730       2   \n",
       "6984         165.152871       -154.039602          18.498736       0   \n",
       "6988          37.113752        144.368202          88.723283       0   \n",
       "6996        -209.480741       -129.776336         -51.226256       1   \n",
       "6997         248.055724       -112.626344          99.463913       0   \n",
       "\n",
       "      is_train  predictions  \n",
       "1        False            0  \n",
       "10       False            1  \n",
       "15       False            2  \n",
       "17       False            0  \n",
       "20       False            1  \n",
       "...        ...          ...  \n",
       "6979     False            0  \n",
       "6984     False            0  \n",
       "6988     False            2  \n",
       "6996     False            1  \n",
       "6997     False            0  \n",
       "\n",
       "[1426 rows x 12 columns]"
      ]
     },
     "execution_count": 46,
     "metadata": {},
     "output_type": "execute_result"
    }
   ],
   "source": [
    "test"
   ]
  },
  {
   "cell_type": "code",
   "execution_count": 51,
   "id": "2d141045",
   "metadata": {},
   "outputs": [
    {
     "data": {
      "text/plain": [
       "(array([705.,   0.,   0.,   0.,   0., 569.,   0.,   0.,   0., 152.]),\n",
       " array([0. , 0.2, 0.4, 0.6, 0.8, 1. , 1.2, 1.4, 1.6, 1.8, 2. ]),\n",
       " <BarContainer object of 10 artists>)"
      ]
     },
     "execution_count": 51,
     "metadata": {},
     "output_type": "execute_result"
    },
    {
     "data": {
      "image/png": "[encoded data removed]",
      "text/plain": [
       "<Figure size 432x288 with 1 Axes>"
      ]
     },
     "metadata": {
      "needs_background": "light"
     },
     "output_type": "display_data"
    }
   ],
   "source": [
    "plt.hist(test.Insect)"
   ]
  },
  {
   "cell_type": "code",
   "execution_count": 53,
   "id": "9ba42f8b",
   "metadata": {},
   "outputs": [
    {
     "data": {
      "text/plain": [
       "(array([693.,   0.,   0.,   0.,   0., 600.,   0.,   0.,   0., 133.]),\n",
       " array([0. , 0.2, 0.4, 0.6, 0.8, 1. , 1.2, 1.4, 1.6, 1.8, 2. ]),\n",
       " <BarContainer object of 10 artists>)"
      ]
     },
     "execution_count": 53,
     "metadata": {},
     "output_type": "execute_result"
    },
    {
     "data": {
      "image/png": "[encoded data removed]",
      "text/plain": [
       "<Figure size 432x288 with 1 Axes>"
      ]
     },
     "metadata": {
      "needs_background": "light"
     },
     "output_type": "display_data"
    }
   ],
   "source": [
    "plt.hist(test.predictions)"
   ]
  },
  {
   "cell_type": "code",
   "execution_count": 57,
   "id": "9db9762c",
   "metadata": {},
   "outputs": [],
   "source": [
    "from sklearn.model_selection import cross_val_score\n",
    "from sklearn.model_selection import cross_val_score  \n",
    "from sklearn.model_selection import KFold"
   ]
  },
  {
   "cell_type": "code",
   "execution_count": 58,
   "id": "48cafa2c",
   "metadata": {},
   "outputs": [],
   "source": [
    "cv = KFold(n_splits=10, shuffle=True, random_state=1)"
   ]
  },
  {
   "cell_type": "code",
   "execution_count": 59,
   "id": "3d26b2fe",
   "metadata": {},
   "outputs": [
    {
     "data": {
      "text/plain": [
       "array([0.8046595 , 0.78494624, 0.82795699, 0.80824373, 0.83691756,\n",
       "       0.82405745, 0.80610413, 0.82944345, 0.82405745, 0.81687612])"
      ]
     },
     "execution_count": 59,
     "metadata": {},
     "output_type": "execute_result"
    }
   ],
   "source": [
    "scores = cross_val_score(classifier, train[predictors], train[target], scoring=\"accuracy\", cv=cv, n_jobs=1)\n",
    "scores"
   ]
  },
  {
   "cell_type": "code",
   "execution_count": 62,
   "id": "c4922123",
   "metadata": {},
   "outputs": [
    {
     "data": {
      "text/plain": [
       "0.8163262613977851"
      ]
     },
     "execution_count": 62,
     "metadata": {},
     "output_type": "execute_result"
    }
   ],
   "source": [
    "score = np.mean(scores)\n",
    "score"
   ]
  },
  {
   "cell_type": "code",
   "execution_count": 63,
   "id": "cbf2bf39",
   "metadata": {},
   "outputs": [],
   "source": [
    "from sklearn.metrics import classification_report"
   ]
  },
  {
   "cell_type": "code",
   "execution_count": 79,
   "id": "12c30073",
   "metadata": {},
   "outputs": [
    {
     "name": "stdout",
     "output_type": "stream",
     "text": [
      "              precision    recall  f1-score   support\n",
      "\n",
      "           0       0.88      0.93      0.91       705\n",
      "           1       0.91      0.95      0.93       569\n",
      "           2       0.95      0.54      0.69       152\n",
      "\n",
      "    accuracy                           0.90      1426\n",
      "   macro avg       0.92      0.81      0.84      1426\n",
      "weighted avg       0.90      0.90      0.89      1426\n",
      "\n"
     ]
    }
   ],
   "source": [
    "print(classification_report(test[target], preds))"
   ]
  },
  {
   "cell_type": "code",
   "execution_count": 83,
   "id": "11d1a443",
   "metadata": {},
   "outputs": [],
   "source": [
    "from sklearn.metrics import confusion_matrix\n",
    "import seaborn as sns; sns.set()"
   ]
  },
  {
   "cell_type": "code",
   "execution_count": 82,
   "id": "f48f6fcc",
   "metadata": {},
   "outputs": [
    {
     "data": {
      "text/plain": [
       "array([[659,  43,   3],\n",
       "       [ 26, 542,   1],\n",
       "       [ 60,  10,  82]], dtype=int64)"
      ]
     },
     "execution_count": 82,
     "metadata": {},
     "output_type": "execute_result"
    }
   ],
   "source": [
    "mat = confusion_matrix(test[target], preds)\n",
    "mat"
   ]
  },
  {
   "cell_type": "code",
   "execution_count": 84,
   "id": "96cfe859",
   "metadata": {},
   "outputs": [
    {
     "data": {
      "text/plain": [
       "<AxesSubplot:>"
      ]
     },
     "execution_count": 84,
     "metadata": {},
     "output_type": "execute_result"
    },
    {
     "data": {
      "image/png": "[encoded data removed]",
      "text/plain": [
       "<Figure size 432x288 with 2 Axes>"
      ]
     },
     "metadata": {},
     "output_type": "display_data"
    }
   ],
   "source": [
    "sns.heatmap(mat.T, square=True, annot=True, fmt='d', cbar=True)"
   ]
  },
  {
   "cell_type": "code",
   "execution_count": null,
   "id": "0277ed73",
   "metadata": {},
   "outputs": [],
   "source": []
  }
 ],
 "metadata": {
  "kernelspec": {
   "display_name": "Python 3 (ipykernel)",
   "language": "python",
   "name": "python3"
  },
  "language_info": {
   "codemirror_mode": {
    "name": "ipython",
    "version": 3
   },
   "file_extension": ".py",
   "mimetype": "text/x-python",
   "name": "python",
   "nbconvert_exporter": "python",
   "pygments_lexer": "ipython3",
   "version": "3.9.7"
  }
 },
 "nbformat": 4,
 "nbformat_minor": 5
}
